{
 "cells": [
  {
   "cell_type": "code",
   "execution_count": 15,
   "metadata": {},
   "outputs": [],
   "source": [
    "import numpy as np\n",
    "import matplotlib.pyplot as plt"
   ]
  },
  {
   "cell_type": "markdown",
   "metadata": {},
   "source": [
    "OLD Data_Set"
   ]
  },
  {
   "cell_type": "code",
   "execution_count": 1,
   "metadata": {},
   "outputs": [
    {
     "name": "stdout",
     "output_type": "stream",
     "text": [
      "Length of data=> 11\n"
     ]
    }
   ],
   "source": [
    "dataset = [[2.7810836,2.550537003,0],\n",
    "[1.465489372,2.362125076,0],\n",
    "[3.396561688,4.400293529,0],\n",
    "[1.38807019,1.850220317,0],\n",
    "[3.06407232,3.005305973,0],\n",
    "[7.627531214,2.759262235,1],\n",
    "[5.332441248,2.088626775,1],\n",
    "[6.922596716,1.77106367,1],\n",
    "[8.675418651,-0.242068655,1],\n",
    "[7.673756466,3.508563011,1], [3,2]]\n",
    "print('Length of data=>',len(dataset))"
   ]
  },
  {
   "cell_type": "code",
   "execution_count": 14,
   "metadata": {},
   "outputs": [
    {
     "data": {
      "text/plain": [
       "array([[list([2.7810836, 2.550537003, 0])],\n",
       "       [list([1.465489372, 2.362125076, 0])],\n",
       "       [list([3.396561688, 4.400293529, 0])],\n",
       "       [list([1.38807019, 1.850220317, 0])],\n",
       "       [list([3.06407232, 3.005305973, 0])],\n",
       "       [list([7.627531214, 2.759262235, 1])],\n",
       "       [list([5.332441248, 2.088626775, 1])],\n",
       "       [list([6.922596716, 1.77106367, 1])],\n",
       "       [list([8.675418651, -0.242068655, 1])],\n",
       "       [list([7.673756466, 3.508563011, 1])],\n",
       "       [list([3, 2])]], dtype=object)"
      ]
     },
     "execution_count": 14,
     "metadata": {},
     "output_type": "execute_result"
    }
   ],
   "source": [
    "\n",
    "np.shape(dataset)\n",
    "np.reshape(dataset,(-1,1))"
   ]
  },
  {
   "cell_type": "markdown",
   "metadata": {},
   "source": [
    "#### New Data_Set"
   ]
  },
  {
   "cell_type": "code",
   "execution_count": 3,
   "metadata": {},
   "outputs": [],
   "source": [
    "test=[4.5,1]"
   ]
  },
  {
   "cell_type": "code",
   "execution_count": 55,
   "metadata": {},
   "outputs": [
    {
     "data": {
      "text/plain": [
       "<matplotlib.legend.Legend at 0x1ad655bfc18>"
      ]
     },
     "execution_count": 55,
     "metadata": {},
     "output_type": "execute_result"
    },
    {
     "data": {
      "image/png": "[encoded data removed]",
      "text/plain": [
       "<Figure size 432x288 with 1 Axes>"
      ]
     },
     "metadata": {
      "needs_background": "light"
     },
     "output_type": "display_data"
    }
   ],
   "source": [
    "import matplotlib.pyplot as plt\n",
    "\n",
    "dataset_Clr={}\n",
    "for i in range (len(dataset)):\n",
    "    if dataset[i][0]>3.5:\n",
    "        dataset_Clr['B'+str(i)]=dataset[i]\n",
    "        plt.scatter(dataset[i][0],dataset[i][1],c='Blue') # Points >3.5 are marked in Blue\n",
    "    else:\n",
    "        dataset_Clr['R'+str(i)]=dataset[i]      \n",
    "        plt.scatter(dataset[i][0],dataset[i][1],c='Red') #  Points <3.5 are marked in Red\n",
    "plt.scatter(test[0],test[1],c='yellow',label='New Data point')\n",
    "plt.title('K-NN')\n",
    "plt.xlabel('x-axis')\n",
    "plt.ylabel('y-axis')\n",
    "plt.legend()\n",
    "#plt.grid()\n",
    "# dataset_Clr "
   ]
  },
  {
   "cell_type": "code",
   "execution_count": 5,
   "metadata": {},
   "outputs": [
    {
     "data": {
      "text/plain": [
       "{'R0': [2.7810836, 2.550537003, 0],\n",
       " 'R1': [1.465489372, 2.362125076, 0],\n",
       " 'R2': [3.396561688, 4.400293529, 0],\n",
       " 'R3': [1.38807019, 1.850220317, 0],\n",
       " 'R4': [3.06407232, 3.005305973, 0],\n",
       " 'B5': [7.627531214, 2.759262235, 1],\n",
       " 'B6': [5.332441248, 2.088626775, 1],\n",
       " 'B7': [6.922596716, 1.77106367, 1],\n",
       " 'B8': [8.675418651, -0.242068655, 1],\n",
       " 'B9': [7.673756466, 3.508563011, 1],\n",
       " 'R10': [3, 2]}"
      ]
     },
     "execution_count": 5,
     "metadata": {},
     "output_type": "execute_result"
    }
   ],
   "source": [
    "dataset_Clr"
   ]
  },
  {
   "cell_type": "code",
   "execution_count": 6,
   "metadata": {},
   "outputs": [
    {
     "data": {
      "text/plain": [
       "'\\nX = np.array([[1, 2], [1, 4], [1, 0],[10, 2], [10, 4], [10, 0]])\\nkmeans = KMeans(n_clusters=2, random_state=0).fit(X)\\nkmeans.labels_\\nkmeans.predict([[0, 0], [12, 3]])\\nkmeans.cluster_centers_'"
      ]
     },
     "execution_count": 6,
     "metadata": {},
     "output_type": "execute_result"
    }
   ],
   "source": [
    "#from sklearn.cluster import KMeans\n",
    "\"\"\"\n",
    "X = np.array([[1, 2], [1, 4], [1, 0],[10, 2], [10, 4], [10, 0]])\n",
    "kmeans = KMeans(n_clusters=2, random_state=0).fit(X)\n",
    "kmeans.labels_\n",
    "kmeans.predict([[0, 0], [12, 3]])\n",
    "kmeans.cluster_centers_\"\"\""
   ]
  },
  {
   "cell_type": "code",
   "execution_count": 7,
   "metadata": {},
   "outputs": [
    {
     "data": {
      "text/plain": [
       "\"for i in X:\\n    plt.scatter(i[0],i[1])\\nfor i in kmeans.cluster_centers_:\\n    plt.scatter(i[0],i[1],c='purple')\""
      ]
     },
     "execution_count": 7,
     "metadata": {},
     "output_type": "execute_result"
    }
   ],
   "source": [
    "\"\"\"for i in X:\n",
    "    plt.scatter(i[0],i[1])\n",
    "for i in kmeans.cluster_centers_:\n",
    "    plt.scatter(i[0],i[1],c='purple')\"\"\""
   ]
  },
  {
   "cell_type": "markdown",
   "metadata": {},
   "source": [
    "### Calculate Eucledian_Distance to find the nearest neighbour"
   ]
  },
  {
   "cell_type": "code",
   "execution_count": 8,
   "metadata": {},
   "outputs": [
    {
     "data": {
      "text/plain": [
       "{'R0 Distance from New Data Point Is': 2.314916540150245,\n",
       " 'R1 Distance from New Data Point Is': 3.3262049657399286,\n",
       " 'R2 Distance from New Data Point Is': 3.574852751058242,\n",
       " 'R3 Distance from New Data Point Is': 3.2259853889635357,\n",
       " 'R4 Distance from New Data Point Is': 2.466402308533557,\n",
       " 'B5 Distance from New Data Point Is': 3.5883777819568428,\n",
       " 'B6 Distance from New Data Point Is': 1.3704257318872477,\n",
       " 'B7 Distance from New Data Point Is': 2.5423442000578627,\n",
       " 'B8 Distance from New Data Point Is': 4.35624327314857,\n",
       " 'B9 Distance from New Data Point Is': 4.045444164196831,\n",
       " 'R10 Distance from New Data Point Is': 1.8027756377319946}"
      ]
     },
     "execution_count": 8,
     "metadata": {},
     "output_type": "execute_result"
    }
   ],
   "source": [
    "def euc_dist(x,y):\n",
    "     return np.sqrt(np.square(x[0]-y[0])+ np.square(x[1]-y[1]))\n",
    "\n",
    "distance={}\n",
    "for i in range (len(dataset)):\n",
    "   # distance[i]=euc_dist(dataset[i],test)\n",
    "    distance[list(dataset_Clr.keys())[i]+' Distance from New Data Point Is']=euc_dist(dataset[i],test)\n",
    "    \n",
    "distance\n",
    "    \n",
    "    "
   ]
  },
  {
   "cell_type": "code",
   "execution_count": 9,
   "metadata": {},
   "outputs": [],
   "source": [
    "# sorted((distance.items(),reverse=True))\n"
   ]
  },
  {
   "cell_type": "markdown",
   "metadata": {},
   "source": [
    "#### Sort the distance by Ascending order by using values and By default reverse keyword is false"
   ]
  },
  {
   "cell_type": "code",
   "execution_count": 10,
   "metadata": {},
   "outputs": [
    {
     "name": "stdout",
     "output_type": "stream",
     "text": [
      "['B6', 'R10', 'R0', 'R4', 'B7', 'R3', 'R1', 'R2', 'B5', 'B9', 'B8'] are sorted By Keys in ascending order\n"
     ]
    }
   ],
   "source": [
    "import operator\n",
    "Sorted_dist={}\n",
    "Sorted_dist=dict(sorted(distance.items(),key=operator.itemgetter(1)))\n",
    "sorted_points=[i.split()[0] for i in (Sorted_dist.keys())]\n",
    "print((sorted_points),\"are sorted By Keys in ascending order\")"
   ]
  },
  {
   "cell_type": "markdown",
   "metadata": {},
   "source": [
    "### Selecting the Nearest Neighbour (K=3)\n",
    "#### New Data point will belong to that category which will have more No. of Nearest Neighbor"
   ]
  },
  {
   "cell_type": "code",
   "execution_count": 11,
   "metadata": {},
   "outputs": [
    {
     "name": "stdout",
     "output_type": "stream",
     "text": [
      "['B6', 'R10', 'R0'] Are the Top three points\n",
      "New Test point belongs to red group,Nearest No. of Red Points are 2\n"
     ]
    }
   ],
   "source": [
    "Top_3_points=list(sorted_points)[0:3]\n",
    "print(Top_3_points,'Are the Top three points')\n",
    "R=0\n",
    "B=0\n",
    "for i in range(len(Top_3_points)):\n",
    "    if Top_3_points[i][0]==\"R\":\n",
    "        R+=1\n",
    "    else:\n",
    "        B+=1\n",
    "if R>B:\n",
    "    print(\"New Test point belongs to red group,Nearest No. of Red Points are {}\".format(R))\n",
    "else:\n",
    "    print(\"New Test point belongs to Blue group,Nearest No. of Blue Points are {}\".format(B))"
   ]
  },
  {
   "cell_type": "markdown",
   "metadata": {},
   "source": [
    "# ******** The End ********"
   ]
  },
  {
   "cell_type": "code",
   "execution_count": null,
   "metadata": {},
   "outputs": [],
   "source": []
  },
  {
   "cell_type": "code",
   "execution_count": null,
   "metadata": {},
   "outputs": [],
   "source": []
  },
  {
   "cell_type": "code",
   "execution_count": null,
   "metadata": {},
   "outputs": [],
   "source": []
  },
  {
   "cell_type": "code",
   "execution_count": null,
   "metadata": {},
   "outputs": [],
   "source": []
  },
  {
   "cell_type": "code",
   "execution_count": null,
   "metadata": {},
   "outputs": [],
   "source": []
  },
  {
   "cell_type": "code",
   "execution_count": null,
   "metadata": {},
   "outputs": [],
   "source": []
  },
  {
   "cell_type": "code",
   "execution_count": null,
   "metadata": {},
   "outputs": [],
   "source": []
  },
  {
   "cell_type": "code",
   "execution_count": null,
   "metadata": {},
   "outputs": [],
   "source": []
  },
  {
   "cell_type": "code",
   "execution_count": null,
   "metadata": {},
   "outputs": [],
   "source": []
  },
  {
   "cell_type": "code",
   "execution_count": null,
   "metadata": {},
   "outputs": [],
   "source": []
  },
  {
   "cell_type": "code",
   "execution_count": null,
   "metadata": {},
   "outputs": [],
   "source": []
  },
  {
   "cell_type": "code",
   "execution_count": null,
   "metadata": {},
   "outputs": [],
   "source": []
  },
  {
   "cell_type": "code",
   "execution_count": null,
   "metadata": {},
   "outputs": [],
   "source": []
  },
  {
   "cell_type": "code",
   "execution_count": null,
   "metadata": {},
   "outputs": [],
   "source": []
  },
  {
   "cell_type": "code",
   "execution_count": null,
   "metadata": {},
   "outputs": [],
   "source": []
  },
  {
   "cell_type": "code",
   "execution_count": null,
   "metadata": {},
   "outputs": [],
   "source": []
  },
  {
   "cell_type": "code",
   "execution_count": null,
   "metadata": {},
   "outputs": [],
   "source": []
  },
  {
   "cell_type": "code",
   "execution_count": null,
   "metadata": {},
   "outputs": [],
   "source": []
  },
  {
   "cell_type": "markdown",
   "metadata": {},
   "source": [
    "#### Some string multiplication operation"
   ]
  },
  {
   "cell_type": "code",
   "execution_count": 44,
   "metadata": {
    "scrolled": false
   },
   "outputs": [],
   "source": [
    "# from sklearn import svm\n",
    "# clf = svm.LinearSVC()\n",
    "# clf.fit(np.reshape(dataset[0][0],dataset[0][1],(-1,1))\n",
    "\n"
   ]
  },
  {
   "cell_type": "code",
   "execution_count": 47,
   "metadata": {},
   "outputs": [
    {
     "data": {
      "text/plain": [
       "[['Miz'], ['Miz']]"
      ]
     },
     "execution_count": 47,
     "metadata": {},
     "output_type": "execute_result"
    }
   ],
   "source": [
    "a=['Miz']\n",
    "b=[]\n",
    "for i in range(2):\n",
    "    if i<2:\n",
    "        b.append(a)\n",
    "#         print(b)\n",
    "b"
   ]
  },
  {
   "cell_type": "code",
   "execution_count": 53,
   "metadata": {},
   "outputs": [
    {
     "name": "stdout",
     "output_type": "stream",
     "text": [
      "Enter the string miz\n",
      "mmiizz"
     ]
    }
   ],
   "source": [
    "for i in [i*2 for i in input('Enter the string ')]:\n",
    "    print(i,end='') "
   ]
  },
  {
   "cell_type": "code",
   "execution_count": 54,
   "metadata": {},
   "outputs": [
    {
     "name": "stdout",
     "output_type": "stream",
     "text": [
      "Enter the string miz\n",
      "['mizmiz']\n"
     ]
    }
   ],
   "source": [
    "print([input('Enter the string ')* 2])\n"
   ]
  },
  {
   "cell_type": "code",
   "execution_count": null,
   "metadata": {},
   "outputs": [],
   "source": []
  }
 ],
 "metadata": {
  "kernelspec": {
   "display_name": "Python 3",
   "language": "python",
   "name": "python3"
  },
  "language_info": {
   "codemirror_mode": {
    "name": "ipython",
    "version": 3
   },
   "file_extension": ".py",
   "mimetype": "text/x-python",
   "name": "python",
   "nbconvert_exporter": "python",
   "pygments_lexer": "ipython3",
   "version": "3.7.3"
  }
 },
 "nbformat": 4,
 "nbformat_minor": 2
}
